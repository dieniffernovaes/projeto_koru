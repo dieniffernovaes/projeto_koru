{
  "nbformat": 4,
  "nbformat_minor": 0,
  "metadata": {
    "colab": {
      "provenance": [],
      "authorship_tag": "ABX9TyOiVw4l2/gHlWIZyFSXGDgu",
      "include_colab_link": true
    },
    "kernelspec": {
      "name": "python3",
      "display_name": "Python 3"
    },
    "language_info": {
      "name": "python"
    }
  },
  "cells": [
    {
      "cell_type": "markdown",
      "metadata": {
        "id": "view-in-github",
        "colab_type": "text"
      },
      "source": [
        "<a href=\"https://colab.research.google.com/github/dieniffernovaes/projeto_koru/blob/main/dieniffer_data_driven_insights.ipynb\" target=\"_parent\"><img src=\"https://colab.research.google.com/assets/colab-badge.svg\" alt=\"Open In Colab\"/></a>"
      ]
    },
    {
      "cell_type": "markdown",
      "source": [
        "#Mini Projeto: Data-Driven Insights (Módulo 01)\n",
        "\n",
        "***Dieniffer Novaes Rodrigues***\n",
        "\n",
        "Grupo: 3_9              \n",
        "\n",
        "Data base: Student Performance\n"
      ],
      "metadata": {
        "id": "7PagV9dzi4ri"
      }
    },
    {
      "cell_type": "code",
      "execution_count": null,
      "metadata": {
        "colab": {
          "base_uri": "https://localhost:8080/"
        },
        "id": "DaInfkqnibhL",
        "outputId": "55e7ed36-f5dd-44e1-8723-a216ed327400"
      },
      "outputs": [
        {
          "output_type": "stream",
          "name": "stdout",
          "text": [
            "shell-init: error retrieving current directory: getcwd: cannot access parent directories: No such file or directory\n",
            "shell-init: error retrieving current directory: getcwd: cannot access parent directories: No such file or directory\n",
            "The folder you are executing pip from can no longer be found.\n",
            "shell-init: error retrieving current directory: getcwd: cannot access parent directories: No such file or directory\n",
            "shell-init: error retrieving current directory: getcwd: cannot access parent directories: No such file or directory\n",
            "The folder you are executing pip from can no longer be found.\n",
            "shell-init: error retrieving current directory: getcwd: cannot access parent directories: No such file or directory\n",
            "shell-init: error retrieving current directory: getcwd: cannot access parent directories: No such file or directory\n",
            "The folder you are executing pip from can no longer be found.\n"
          ]
        }
      ],
      "source": [
        "%pip install pandas\n",
        "%pip install numpy\n",
        "%pip install matplotlib"
      ]
    },
    {
      "cell_type": "code",
      "source": [
        "import pandas as pd\n",
        "import numpy as np\n",
        "import matplotlib.pyplot as plt"
      ],
      "metadata": {
        "id": "ZvLQc-dbogtg"
      },
      "execution_count": null,
      "outputs": []
    },
    {
      "cell_type": "markdown",
      "source": [
        "### **1. Leitura e Exploração Inicial da Base: Student Performance**\n",
        "\n",
        "---\n",
        "\n"
      ],
      "metadata": {
        "id": "278w9d-6xJhS"
      }
    },
    {
      "cell_type": "code",
      "source": [
        "from google.colab import files"
      ],
      "metadata": {
        "id": "yAJCKiJhDGtn"
      },
      "execution_count": null,
      "outputs": []
    },
    {
      "cell_type": "code",
      "source": [
        "df = pd.read_csv('/student-por.csv', sep=';')\n",
        "print(df.head())\n",
        "print(df.dtypes)\n",
        "print(list(df.columns)) # somente o número das colunas\n",
        "print(df.shape)\n",
        "print(df.columns)\n"
      ],
      "metadata": {
        "colab": {
          "base_uri": "https://localhost:8080/"
        },
        "id": "DtAvu2vRvONU",
        "outputId": "3476cd9d-6836-4631-d26a-cad00348d310"
      },
      "execution_count": null,
      "outputs": [
        {
          "output_type": "stream",
          "name": "stdout",
          "text": [
            "  school sex  age address famsize Pstatus  Medu  Fedu     Mjob      Fjob  ...  \\\n",
            "0     GP   F   18       U     GT3       A     4     4  at_home   teacher  ...   \n",
            "1     GP   F   17       U     GT3       T     1     1  at_home     other  ...   \n",
            "2     GP   F   15       U     LE3       T     1     1  at_home     other  ...   \n",
            "3     GP   F   15       U     GT3       T     4     2   health  services  ...   \n",
            "4     GP   F   16       U     GT3       T     3     3    other     other  ...   \n",
            "\n",
            "  famrel freetime  goout  Dalc  Walc health absences  G1  G2  G3  \n",
            "0      4        3      4     1     1      3        4   0  11  11  \n",
            "1      5        3      3     1     1      3        2   9  11  11  \n",
            "2      4        3      2     2     3      3        6  12  13  12  \n",
            "3      3        2      2     1     1      5        0  14  14  14  \n",
            "4      4        3      2     1     2      5        0  11  13  13  \n",
            "\n",
            "[5 rows x 33 columns]\n",
            "school        object\n",
            "sex           object\n",
            "age            int64\n",
            "address       object\n",
            "famsize       object\n",
            "Pstatus       object\n",
            "Medu           int64\n",
            "Fedu           int64\n",
            "Mjob          object\n",
            "Fjob          object\n",
            "reason        object\n",
            "guardian      object\n",
            "traveltime     int64\n",
            "studytime      int64\n",
            "failures       int64\n",
            "schoolsup     object\n",
            "famsup        object\n",
            "paid          object\n",
            "activities    object\n",
            "nursery       object\n",
            "higher        object\n",
            "internet      object\n",
            "romantic      object\n",
            "famrel         int64\n",
            "freetime       int64\n",
            "goout          int64\n",
            "Dalc           int64\n",
            "Walc           int64\n",
            "health         int64\n",
            "absences       int64\n",
            "G1             int64\n",
            "G2             int64\n",
            "G3             int64\n",
            "dtype: object\n",
            "['school', 'sex', 'age', 'address', 'famsize', 'Pstatus', 'Medu', 'Fedu', 'Mjob', 'Fjob', 'reason', 'guardian', 'traveltime', 'studytime', 'failures', 'schoolsup', 'famsup', 'paid', 'activities', 'nursery', 'higher', 'internet', 'romantic', 'famrel', 'freetime', 'goout', 'Dalc', 'Walc', 'health', 'absences', 'G1', 'G2', 'G3']\n",
            "(649, 33)\n",
            "Index(['school', 'sex', 'age', 'address', 'famsize', 'Pstatus', 'Medu', 'Fedu',\n",
            "       'Mjob', 'Fjob', 'reason', 'guardian', 'traveltime', 'studytime',\n",
            "       'failures', 'schoolsup', 'famsup', 'paid', 'activities', 'nursery',\n",
            "       'higher', 'internet', 'romantic', 'famrel', 'freetime', 'goout', 'Dalc',\n",
            "       'Walc', 'health', 'absences', 'G1', 'G2', 'G3'],\n",
            "      dtype='object')\n"
          ]
        }
      ]
    },
    {
      "cell_type": "code",
      "source": [
        "num_colunas = len(df.columns)\n",
        "print(num_colunas)"
      ],
      "metadata": {
        "colab": {
          "base_uri": "https://localhost:8080/"
        },
        "id": "5qoyOAMh0Cak",
        "outputId": "c5e0654d-072e-479f-80b3-590f7132b502"
      },
      "execution_count": null,
      "outputs": [
        {
          "output_type": "stream",
          "name": "stdout",
          "text": [
            "33\n"
          ]
        }
      ]
    },
    {
      "cell_type": "markdown",
      "source": [
        "**Comentário:**\n",
        "\n",
        "\n",
        "1. A base de dados em questão possui 649 linhas e 33 colunas. Cada coluna representa uma variável, como, por exemplo: sexo, idade, tempo de estudo, entre outras.\n",
        "\n",
        "2. Os tipos de dados armazenados no estudo são \"object\" (com strings) e \"int\".\n",
        "\n",
        "\n",
        "\n",
        "\"Ao resolver o exercício, eu havia cometido um erro. Ao pedir ajuda ao Colab, ele sugeriu alterar a estrutura do código pd.read, adicionando sep=';'. Dessa forma, consegui visualizar minhas colunas e linhas corretamente.\"\n",
        "\n",
        "\n",
        "\n",
        "\n",
        "\n"
      ],
      "metadata": {
        "id": "JO-yi-jt05uz"
      }
    },
    {
      "cell_type": "markdown",
      "source": [
        "\n",
        "\n",
        "### **2. Listas, Dicionários e Tuplas**"
      ],
      "metadata": {
        "id": "OD1_r2LzB6iE"
      }
    },
    {
      "cell_type": "code",
      "source": [
        "sex = list(df['sex'])\n",
        "for sexo in sex[:7]:\n",
        "  print(\"Qual é o sexo dos estudantes?\", sexo)"
      ],
      "metadata": {
        "colab": {
          "base_uri": "https://localhost:8080/"
        },
        "id": "7Fb-nVr2IENX",
        "outputId": "c3ccb6c7-14e2-4f66-ea6a-a55b5e13cd24"
      },
      "execution_count": null,
      "outputs": [
        {
          "output_type": "stream",
          "name": "stdout",
          "text": [
            "Qual é o sexo dos estudantes? F\n",
            "Qual é o sexo dos estudantes? F\n",
            "Qual é o sexo dos estudantes? F\n",
            "Qual é o sexo dos estudantes? F\n",
            "Qual é o sexo dos estudantes? F\n",
            "Qual é o sexo dos estudantes? M\n",
            "Qual é o sexo dos estudantes? M\n"
          ]
        }
      ]
    },
    {
      "cell_type": "code",
      "source": [
        "sex = list(df['address'])\n",
        "for a in sex[:7]:\n",
        "  print(\"Qual é a zona de habitação?\", a)"
      ],
      "metadata": {
        "colab": {
          "base_uri": "https://localhost:8080/"
        },
        "id": "3e4hr24kN1ba",
        "outputId": "a521e208-793f-4973-a71a-dfebdc87e795"
      },
      "execution_count": null,
      "outputs": [
        {
          "output_type": "stream",
          "name": "stdout",
          "text": [
            "Qual é a zona de habitação? U\n",
            "Qual é a zona de habitação? U\n",
            "Qual é a zona de habitação? U\n",
            "Qual é a zona de habitação? U\n",
            "Qual é a zona de habitação? U\n",
            "Qual é a zona de habitação? U\n",
            "Qual é a zona de habitação? U\n"
          ]
        }
      ]
    },
    {
      "cell_type": "code",
      "source": [
        "dicionario = dict(zip(df['famsize'][:3], df['guardian'][:3]))\n",
        "print(\"Qual o tamanho da familia e o se responsável escolar?\", dicionario)\n",
        "\n",
        "dicionario_1 = dict(zip(df['school'][:3], df['Pstatus'][:3]))\n",
        "print(\"Quem é o aluno e seus pais moram juntos?\", dicionario_1)\n",
        "\n",
        "dicionario_2 = dict(zip(df['studytime'][:3], df['schoolsup'][:3]))\n",
        "print(\"Qual é o tempo de estudo na semana e esse aluno precisou de reforço?\", dicionario_2)"
      ],
      "metadata": {
        "colab": {
          "base_uri": "https://localhost:8080/"
        },
        "id": "cNBOtSltPr62",
        "outputId": "2277247a-5800-4f95-8556-ea7db95d184d"
      },
      "execution_count": null,
      "outputs": [
        {
          "output_type": "stream",
          "name": "stdout",
          "text": [
            "Qual o tamanho da familia e o se responsável escolar? {'GT3': 'father', 'LE3': 'mother'}\n",
            "Quem é o aluno e seus pais moram juntos? {'GP': 'T'}\n",
            "Qual é o tempo de estudo na semana e esse aluno precisou de reforço? {2: 'yes'}\n"
          ]
        }
      ]
    },
    {
      "cell_type": "code",
      "source": [
        "dicionario_2 = dict(zip(df['school'][:3], df['schoolsup'][:3]))\n",
        "for chave in dicionario_2:\n",
        "    print(chave, dicionario_2[chave])"
      ],
      "metadata": {
        "colab": {
          "base_uri": "https://localhost:8080/"
        },
        "id": "AABoBi6AgWYv",
        "outputId": "8e226dc6-879c-40ff-c93a-8f0c2c81583c"
      },
      "execution_count": null,
      "outputs": [
        {
          "output_type": "stream",
          "name": "stdout",
          "text": [
            "GP yes\n"
          ]
        }
      ]
    },
    {
      "cell_type": "code",
      "source": [
        "linha = df.iloc[3]\n",
        "tupla = (linha['reason'], linha['famsup'], linha['famrel'], linha['age'])\n",
        "print(tupla)"
      ],
      "metadata": {
        "colab": {
          "base_uri": "https://localhost:8080/"
        },
        "id": "o0Rgzi5rj1BC",
        "outputId": "a1a6a89b-57ad-48d3-eb7a-0827c058b8cb"
      },
      "execution_count": null,
      "outputs": [
        {
          "output_type": "stream",
          "name": "stdout",
          "text": [
            "('home', 'yes', np.int64(3), np.int64(15))\n"
          ]
        }
      ]
    },
    {
      "cell_type": "markdown",
      "source": [
        "**Comentários:**\n",
        "\n",
        "1. As 5 primeiras linhas da coluna \"sexo\" indicam que são compostas por estudantes do sexo feminino. Além disso, todos os 7 estudantes residem na zona urbana, representada pela letra \"U\".\n",
        "2. No dicionário, podemos verificar o tamanho da família e o responsável educacional. A família do aluno é composta por mais de 3 pessoas, e seu responsável é o pai. Já no \"dicionário_1\", o aluno \"GP\" (3º) vive com os pais, sendo essa informação representada pela letra \"T\". O mesmo estuda em média de 2 a 5 horas por semana e precisou de reforço escolar.\n",
        "3. Por fim, criei um dicionário dentro de outro dicionário para demonstrar que o aluno GP necessitou de reforço escolar.\n",
        "4. O aluno GP estuda nesse colégio porque é perto de sua casa (razão: home), ele possui apoio familiar em relação ao aprendizado (famsup: yes), e sua relação familiar é média (famrel: 3). Qual adolescente tem uma relação maravilhosa com os pais, certo? GP tem 15 anos de idade.\n",
        "\n"
      ],
      "metadata": {
        "id": "nqfOMRGGLJBR"
      }
    },
    {
      "cell_type": "markdown",
      "source": [
        "\n",
        "\n",
        "### **3. Estruturas Condicionais e Laços**"
      ],
      "metadata": {
        "id": "xCMM_Lumpobj"
      }
    },
    {
      "cell_type": "code",
      "source": [
        "tempo_escola = 'traveltime'\n",
        "tempo_percorrido = df[tempo_escola][3]\n",
        "\n",
        "\n",
        "if tempo_percorrido >= 4:\n",
        "    print(\"GP demora uma hora para chegar na escola.\")\n",
        "elif tempo_percorrido < 2:\n",
        "    print(\"GP demora de 15 a 30 min para chegar na escola.\")\n",
        "elif tempo_percorrido >= 3:\n",
        "  print(\"GP demora de 30 min a 1 hora para chegar na escola.\")\n",
        "else:\n",
        "    print(\"GP demora 15 minutos para chegar na escola\")"
      ],
      "metadata": {
        "colab": {
          "base_uri": "https://localhost:8080/"
        },
        "id": "jq-H4iMPpxiz",
        "outputId": "88457e01-6d7f-41b0-af17-20d4e3ebc691"
      },
      "execution_count": null,
      "outputs": [
        {
          "output_type": "stream",
          "name": "stdout",
          "text": [
            "GP demora de 15 a 30 min para chegar na escola.\n"
          ]
        }
      ]
    },
    {
      "cell_type": "code",
      "source": [
        "tempo_escola = 'traveltime'\n",
        "tempo_percorrido = df[tempo_escola][55]\n",
        "\n",
        "\n",
        "if tempo_percorrido >= 4:\n",
        "    print(\"GP demora uma hora para chegar na escola.\")\n",
        "elif tempo_percorrido < 2:\n",
        "    print(\"GP demora de 15 a 30 min para chegar na escola.\")\n",
        "\n",
        "else:\n",
        "    print(\"GP demora 15 minutos para chegar na escola\")"
      ],
      "metadata": {
        "colab": {
          "base_uri": "https://localhost:8080/"
        },
        "id": "WvAg1KBqwECt",
        "outputId": "ed5bed56-6941-4100-e913-abbe7a1b0ec3"
      },
      "execution_count": null,
      "outputs": [
        {
          "output_type": "stream",
          "name": "stdout",
          "text": [
            "GP demora de 15 a 30 min para chegar na escola.\n"
          ]
        }
      ]
    },
    {
      "cell_type": "code",
      "source": [
        "soma = 0\n",
        "valores = list(df[tempo_escola][:5])\n",
        "\n",
        "for valor in valores:\n",
        "    soma += valor\n",
        "\n",
        "media = soma / len(valores)\n",
        "print(\"Média de locomoção:\", media)"
      ],
      "metadata": {
        "colab": {
          "base_uri": "https://localhost:8080/"
        },
        "id": "OWiMr1V-wlvP",
        "outputId": "374180fa-ab9e-4796-9060-38c0207d7380"
      },
      "execution_count": null,
      "outputs": [
        {
          "output_type": "stream",
          "name": "stdout",
          "text": [
            "Média de locomoção: 1.2\n"
          ]
        }
      ]
    },
    {
      "cell_type": "code",
      "source": [
        "limite = 22 # tentativa de encontrar a 1ª idade menor que o limite, se colocarmos o break o mesmo retorna a 1ª linha, não foi usado o and\n",
        "i = 0\n",
        "idades = df['age']\n",
        "\n",
        "while i < len(idades):\n",
        "    if idades.iloc[i] < limite:\n",
        "        print(\"Primeira idade <\", limite, \"encontrada:\", idades.iloc[i])\n",
        "        # break\n",
        "    i += 1\n",
        "else:\n",
        "    print(\"Nenhuma idade maior que\", limite, \"foi encontrada.\")"
      ],
      "metadata": {
        "colab": {
          "base_uri": "https://localhost:8080/"
        },
        "id": "8cg2wXi5AHCJ",
        "outputId": "38436a0e-ae65-4515-8982-1ae46f333c24"
      },
      "execution_count": null,
      "outputs": [
        {
          "output_type": "stream",
          "name": "stdout",
          "text": [
            "Primeira idade < 22 encontrada: 18\n",
            "Primeira idade < 22 encontrada: 17\n",
            "Primeira idade < 22 encontrada: 15\n",
            "Primeira idade < 22 encontrada: 15\n",
            "Primeira idade < 22 encontrada: 16\n",
            "Primeira idade < 22 encontrada: 16\n",
            "Primeira idade < 22 encontrada: 16\n",
            "Primeira idade < 22 encontrada: 17\n",
            "Primeira idade < 22 encontrada: 15\n",
            "Primeira idade < 22 encontrada: 15\n",
            "Primeira idade < 22 encontrada: 15\n",
            "Primeira idade < 22 encontrada: 15\n",
            "Primeira idade < 22 encontrada: 15\n",
            "Primeira idade < 22 encontrada: 15\n",
            "Primeira idade < 22 encontrada: 15\n",
            "Primeira idade < 22 encontrada: 16\n",
            "Primeira idade < 22 encontrada: 16\n",
            "Primeira idade < 22 encontrada: 16\n",
            "Primeira idade < 22 encontrada: 17\n",
            "Primeira idade < 22 encontrada: 16\n",
            "Primeira idade < 22 encontrada: 15\n",
            "Primeira idade < 22 encontrada: 15\n",
            "Primeira idade < 22 encontrada: 16\n",
            "Primeira idade < 22 encontrada: 16\n",
            "Primeira idade < 22 encontrada: 15\n",
            "Primeira idade < 22 encontrada: 16\n",
            "Primeira idade < 22 encontrada: 15\n",
            "Primeira idade < 22 encontrada: 15\n",
            "Primeira idade < 22 encontrada: 16\n",
            "Primeira idade < 22 encontrada: 16\n",
            "Primeira idade < 22 encontrada: 15\n",
            "Primeira idade < 22 encontrada: 15\n",
            "Primeira idade < 22 encontrada: 15\n",
            "Primeira idade < 22 encontrada: 15\n",
            "Primeira idade < 22 encontrada: 16\n",
            "Primeira idade < 22 encontrada: 15\n",
            "Primeira idade < 22 encontrada: 15\n",
            "Primeira idade < 22 encontrada: 16\n",
            "Primeira idade < 22 encontrada: 15\n",
            "Primeira idade < 22 encontrada: 15\n",
            "Primeira idade < 22 encontrada: 16\n",
            "Primeira idade < 22 encontrada: 15\n",
            "Primeira idade < 22 encontrada: 15\n",
            "Primeira idade < 22 encontrada: 15\n",
            "Primeira idade < 22 encontrada: 16\n",
            "Primeira idade < 22 encontrada: 15\n",
            "Primeira idade < 22 encontrada: 16\n",
            "Primeira idade < 22 encontrada: 16\n",
            "Primeira idade < 22 encontrada: 15\n",
            "Primeira idade < 22 encontrada: 15\n",
            "Primeira idade < 22 encontrada: 16\n",
            "Primeira idade < 22 encontrada: 15\n",
            "Primeira idade < 22 encontrada: 15\n",
            "Primeira idade < 22 encontrada: 15\n",
            "Primeira idade < 22 encontrada: 15\n",
            "Primeira idade < 22 encontrada: 16\n",
            "Primeira idade < 22 encontrada: 15\n",
            "Primeira idade < 22 encontrada: 15\n",
            "Primeira idade < 22 encontrada: 15\n",
            "Primeira idade < 22 encontrada: 16\n",
            "Primeira idade < 22 encontrada: 16\n",
            "Primeira idade < 22 encontrada: 16\n",
            "Primeira idade < 22 encontrada: 16\n",
            "Primeira idade < 22 encontrada: 16\n",
            "Primeira idade < 22 encontrada: 15\n",
            "Primeira idade < 22 encontrada: 16\n",
            "Primeira idade < 22 encontrada: 15\n",
            "Primeira idade < 22 encontrada: 16\n",
            "Primeira idade < 22 encontrada: 15\n",
            "Primeira idade < 22 encontrada: 15\n",
            "Primeira idade < 22 encontrada: 16\n",
            "Primeira idade < 22 encontrada: 15\n",
            "Primeira idade < 22 encontrada: 15\n",
            "Primeira idade < 22 encontrada: 16\n",
            "Primeira idade < 22 encontrada: 16\n",
            "Primeira idade < 22 encontrada: 15\n",
            "Primeira idade < 22 encontrada: 15\n",
            "Primeira idade < 22 encontrada: 16\n",
            "Primeira idade < 22 encontrada: 17\n",
            "Primeira idade < 22 encontrada: 16\n",
            "Primeira idade < 22 encontrada: 15\n",
            "Primeira idade < 22 encontrada: 15\n",
            "Primeira idade < 22 encontrada: 15\n",
            "Primeira idade < 22 encontrada: 15\n",
            "Primeira idade < 22 encontrada: 15\n",
            "Primeira idade < 22 encontrada: 15\n",
            "Primeira idade < 22 encontrada: 16\n",
            "Primeira idade < 22 encontrada: 15\n",
            "Primeira idade < 22 encontrada: 16\n",
            "Primeira idade < 22 encontrada: 16\n",
            "Primeira idade < 22 encontrada: 16\n",
            "Primeira idade < 22 encontrada: 15\n",
            "Primeira idade < 22 encontrada: 16\n",
            "Primeira idade < 22 encontrada: 16\n",
            "Primeira idade < 22 encontrada: 15\n",
            "Primeira idade < 22 encontrada: 15\n",
            "Primeira idade < 22 encontrada: 16\n",
            "Primeira idade < 22 encontrada: 16\n",
            "Primeira idade < 22 encontrada: 16\n",
            "Primeira idade < 22 encontrada: 16\n",
            "Primeira idade < 22 encontrada: 16\n",
            "Primeira idade < 22 encontrada: 16\n",
            "Primeira idade < 22 encontrada: 15\n",
            "Primeira idade < 22 encontrada: 15\n",
            "Primeira idade < 22 encontrada: 15\n",
            "Primeira idade < 22 encontrada: 15\n",
            "Primeira idade < 22 encontrada: 15\n",
            "Primeira idade < 22 encontrada: 16\n",
            "Primeira idade < 22 encontrada: 15\n",
            "Primeira idade < 22 encontrada: 16\n",
            "Primeira idade < 22 encontrada: 15\n",
            "Primeira idade < 22 encontrada: 16\n",
            "Primeira idade < 22 encontrada: 16\n",
            "Primeira idade < 22 encontrada: 15\n",
            "Primeira idade < 22 encontrada: 15\n",
            "Primeira idade < 22 encontrada: 16\n",
            "Primeira idade < 22 encontrada: 15\n",
            "Primeira idade < 22 encontrada: 16\n",
            "Primeira idade < 22 encontrada: 17\n",
            "Primeira idade < 22 encontrada: 15\n",
            "Primeira idade < 22 encontrada: 15\n",
            "Primeira idade < 22 encontrada: 15\n",
            "Primeira idade < 22 encontrada: 16\n",
            "Primeira idade < 22 encontrada: 16\n",
            "Primeira idade < 22 encontrada: 16\n",
            "Primeira idade < 22 encontrada: 15\n",
            "Primeira idade < 22 encontrada: 15\n",
            "Primeira idade < 22 encontrada: 19\n",
            "Primeira idade < 22 encontrada: 16\n",
            "Primeira idade < 22 encontrada: 16\n",
            "Primeira idade < 22 encontrada: 15\n",
            "Primeira idade < 22 encontrada: 18\n",
            "Primeira idade < 22 encontrada: 17\n",
            "Primeira idade < 22 encontrada: 15\n",
            "Primeira idade < 22 encontrada: 17\n",
            "Primeira idade < 22 encontrada: 16\n",
            "Primeira idade < 22 encontrada: 16\n",
            "Primeira idade < 22 encontrada: 16\n",
            "Primeira idade < 22 encontrada: 15\n",
            "Primeira idade < 22 encontrada: 15\n",
            "Primeira idade < 22 encontrada: 17\n",
            "Primeira idade < 22 encontrada: 16\n",
            "Primeira idade < 22 encontrada: 18\n",
            "Primeira idade < 22 encontrada: 18\n",
            "Primeira idade < 22 encontrada: 16\n",
            "Primeira idade < 22 encontrada: 16\n",
            "Primeira idade < 22 encontrada: 16\n",
            "Primeira idade < 22 encontrada: 15\n",
            "Primeira idade < 22 encontrada: 15\n",
            "Primeira idade < 22 encontrada: 15\n",
            "Primeira idade < 22 encontrada: 15\n",
            "Primeira idade < 22 encontrada: 16\n",
            "Primeira idade < 22 encontrada: 16\n",
            "Primeira idade < 22 encontrada: 15\n",
            "Primeira idade < 22 encontrada: 16\n",
            "Primeira idade < 22 encontrada: 17\n",
            "Primeira idade < 22 encontrada: 15\n",
            "Primeira idade < 22 encontrada: 15\n",
            "Primeira idade < 22 encontrada: 15\n",
            "Primeira idade < 22 encontrada: 15\n",
            "Primeira idade < 22 encontrada: 15\n",
            "Primeira idade < 22 encontrada: 16\n",
            "Primeira idade < 22 encontrada: 15\n",
            "Primeira idade < 22 encontrada: 18\n",
            "Primeira idade < 22 encontrada: 16\n",
            "Primeira idade < 22 encontrada: 15\n",
            "Primeira idade < 22 encontrada: 19\n",
            "Primeira idade < 22 encontrada: 17\n",
            "Primeira idade < 22 encontrada: 15\n",
            "Primeira idade < 22 encontrada: 17\n",
            "Primeira idade < 22 encontrada: 18\n",
            "Primeira idade < 22 encontrada: 16\n",
            "Primeira idade < 22 encontrada: 16\n",
            "Primeira idade < 22 encontrada: 16\n",
            "Primeira idade < 22 encontrada: 17\n",
            "Primeira idade < 22 encontrada: 17\n",
            "Primeira idade < 22 encontrada: 15\n",
            "Primeira idade < 22 encontrada: 16\n",
            "Primeira idade < 22 encontrada: 17\n",
            "Primeira idade < 22 encontrada: 17\n",
            "Primeira idade < 22 encontrada: 16\n",
            "Primeira idade < 22 encontrada: 16\n",
            "Primeira idade < 22 encontrada: 16\n",
            "Primeira idade < 22 encontrada: 16\n",
            "Primeira idade < 22 encontrada: 16\n",
            "Primeira idade < 22 encontrada: 16\n",
            "Primeira idade < 22 encontrada: 17\n",
            "Primeira idade < 22 encontrada: 16\n",
            "Primeira idade < 22 encontrada: 16\n",
            "Primeira idade < 22 encontrada: 17\n",
            "Primeira idade < 22 encontrada: 16\n",
            "Primeira idade < 22 encontrada: 17\n",
            "Primeira idade < 22 encontrada: 16\n",
            "Primeira idade < 22 encontrada: 17\n",
            "Primeira idade < 22 encontrada: 16\n",
            "Primeira idade < 22 encontrada: 16\n",
            "Primeira idade < 22 encontrada: 17\n",
            "Primeira idade < 22 encontrada: 17\n",
            "Primeira idade < 22 encontrada: 16\n",
            "Primeira idade < 22 encontrada: 17\n",
            "Primeira idade < 22 encontrada: 16\n",
            "Primeira idade < 22 encontrada: 16\n",
            "Primeira idade < 22 encontrada: 17\n",
            "Primeira idade < 22 encontrada: 17\n",
            "Primeira idade < 22 encontrada: 16\n",
            "Primeira idade < 22 encontrada: 17\n",
            "Primeira idade < 22 encontrada: 17\n",
            "Primeira idade < 22 encontrada: 16\n",
            "Primeira idade < 22 encontrada: 16\n",
            "Primeira idade < 22 encontrada: 17\n",
            "Primeira idade < 22 encontrada: 17\n",
            "Primeira idade < 22 encontrada: 16\n",
            "Primeira idade < 22 encontrada: 17\n",
            "Primeira idade < 22 encontrada: 16\n",
            "Primeira idade < 22 encontrada: 16\n",
            "Primeira idade < 22 encontrada: 16\n",
            "Primeira idade < 22 encontrada: 17\n",
            "Primeira idade < 22 encontrada: 17\n",
            "Primeira idade < 22 encontrada: 16\n",
            "Primeira idade < 22 encontrada: 17\n",
            "Primeira idade < 22 encontrada: 16\n",
            "Primeira idade < 22 encontrada: 16\n",
            "Primeira idade < 22 encontrada: 16\n",
            "Primeira idade < 22 encontrada: 17\n",
            "Primeira idade < 22 encontrada: 19\n",
            "Primeira idade < 22 encontrada: 17\n",
            "Primeira idade < 22 encontrada: 16\n",
            "Primeira idade < 22 encontrada: 18\n",
            "Primeira idade < 22 encontrada: 17\n",
            "Primeira idade < 22 encontrada: 17\n",
            "Primeira idade < 22 encontrada: 17\n",
            "Primeira idade < 22 encontrada: 18\n",
            "Primeira idade < 22 encontrada: 17\n",
            "Primeira idade < 22 encontrada: 17\n",
            "Primeira idade < 22 encontrada: 17\n",
            "Primeira idade < 22 encontrada: 17\n",
            "Primeira idade < 22 encontrada: 16\n",
            "Primeira idade < 22 encontrada: 18\n",
            "Primeira idade < 22 encontrada: 16\n",
            "Primeira idade < 22 encontrada: 18\n",
            "Primeira idade < 22 encontrada: 17\n",
            "Primeira idade < 22 encontrada: 17\n",
            "Primeira idade < 22 encontrada: 18\n",
            "Primeira idade < 22 encontrada: 17\n",
            "Primeira idade < 22 encontrada: 17\n",
            "Primeira idade < 22 encontrada: 17\n",
            "Primeira idade < 22 encontrada: 17\n",
            "Primeira idade < 22 encontrada: 16\n",
            "Primeira idade < 22 encontrada: 16\n",
            "Primeira idade < 22 encontrada: 16\n",
            "Primeira idade < 22 encontrada: 17\n",
            "Primeira idade < 22 encontrada: 16\n",
            "Primeira idade < 22 encontrada: 16\n",
            "Primeira idade < 22 encontrada: 18\n",
            "Primeira idade < 22 encontrada: 18\n",
            "Primeira idade < 22 encontrada: 18\n",
            "Primeira idade < 22 encontrada: 18\n",
            "Primeira idade < 22 encontrada: 17\n",
            "Primeira idade < 22 encontrada: 17\n",
            "Primeira idade < 22 encontrada: 17\n",
            "Primeira idade < 22 encontrada: 16\n",
            "Primeira idade < 22 encontrada: 17\n",
            "Primeira idade < 22 encontrada: 17\n",
            "Primeira idade < 22 encontrada: 18\n",
            "Primeira idade < 22 encontrada: 17\n",
            "Primeira idade < 22 encontrada: 17\n",
            "Primeira idade < 22 encontrada: 17\n",
            "Primeira idade < 22 encontrada: 17\n",
            "Primeira idade < 22 encontrada: 17\n",
            "Primeira idade < 22 encontrada: 16\n",
            "Primeira idade < 22 encontrada: 16\n",
            "Primeira idade < 22 encontrada: 17\n",
            "Primeira idade < 22 encontrada: 17\n",
            "Primeira idade < 22 encontrada: 17\n",
            "Primeira idade < 22 encontrada: 17\n",
            "Primeira idade < 22 encontrada: 18\n",
            "Primeira idade < 22 encontrada: 16\n",
            "Primeira idade < 22 encontrada: 17\n",
            "Primeira idade < 22 encontrada: 17\n",
            "Primeira idade < 22 encontrada: 18\n",
            "Primeira idade < 22 encontrada: 16\n",
            "Primeira idade < 22 encontrada: 18\n",
            "Primeira idade < 22 encontrada: 16\n",
            "Primeira idade < 22 encontrada: 18\n",
            "Primeira idade < 22 encontrada: 16\n",
            "Primeira idade < 22 encontrada: 17\n",
            "Primeira idade < 22 encontrada: 17\n",
            "Primeira idade < 22 encontrada: 18\n",
            "Primeira idade < 22 encontrada: 17\n",
            "Primeira idade < 22 encontrada: 19\n",
            "Primeira idade < 22 encontrada: 18\n",
            "Primeira idade < 22 encontrada: 17\n",
            "Primeira idade < 22 encontrada: 18\n",
            "Primeira idade < 22 encontrada: 18\n",
            "Primeira idade < 22 encontrada: 19\n",
            "Primeira idade < 22 encontrada: 18\n",
            "Primeira idade < 22 encontrada: 17\n",
            "Primeira idade < 22 encontrada: 17\n",
            "Primeira idade < 22 encontrada: 20\n",
            "Primeira idade < 22 encontrada: 18\n",
            "Primeira idade < 22 encontrada: 18\n",
            "Primeira idade < 22 encontrada: 18\n",
            "Primeira idade < 22 encontrada: 17\n",
            "Primeira idade < 22 encontrada: 18\n",
            "Primeira idade < 22 encontrada: 17\n",
            "Primeira idade < 22 encontrada: 18\n",
            "Primeira idade < 22 encontrada: 17\n",
            "Primeira idade < 22 encontrada: 18\n",
            "Primeira idade < 22 encontrada: 18\n",
            "Primeira idade < 22 encontrada: 18\n",
            "Primeira idade < 22 encontrada: 19\n",
            "Primeira idade < 22 encontrada: 18\n",
            "Primeira idade < 22 encontrada: 18\n",
            "Primeira idade < 22 encontrada: 17\n",
            "Primeira idade < 22 encontrada: 18\n",
            "Primeira idade < 22 encontrada: 17\n",
            "Primeira idade < 22 encontrada: 17\n",
            "Primeira idade < 22 encontrada: 18\n",
            "Primeira idade < 22 encontrada: 18\n",
            "Primeira idade < 22 encontrada: 18\n",
            "Primeira idade < 22 encontrada: 17\n",
            "Primeira idade < 22 encontrada: 19\n",
            "Primeira idade < 22 encontrada: 18\n",
            "Primeira idade < 22 encontrada: 18\n",
            "Primeira idade < 22 encontrada: 17\n",
            "Primeira idade < 22 encontrada: 17\n",
            "Primeira idade < 22 encontrada: 18\n",
            "Primeira idade < 22 encontrada: 18\n",
            "Primeira idade < 22 encontrada: 17\n",
            "Primeira idade < 22 encontrada: 18\n",
            "Primeira idade < 22 encontrada: 17\n",
            "Primeira idade < 22 encontrada: 18\n",
            "Primeira idade < 22 encontrada: 17\n",
            "Primeira idade < 22 encontrada: 18\n",
            "Primeira idade < 22 encontrada: 18\n",
            "Primeira idade < 22 encontrada: 18\n",
            "Primeira idade < 22 encontrada: 17\n",
            "Primeira idade < 22 encontrada: 17\n",
            "Primeira idade < 22 encontrada: 18\n",
            "Primeira idade < 22 encontrada: 17\n",
            "Primeira idade < 22 encontrada: 19\n",
            "Primeira idade < 22 encontrada: 18\n",
            "Primeira idade < 22 encontrada: 18\n",
            "Primeira idade < 22 encontrada: 18\n",
            "Primeira idade < 22 encontrada: 18\n",
            "Primeira idade < 22 encontrada: 17\n",
            "Primeira idade < 22 encontrada: 17\n",
            "Primeira idade < 22 encontrada: 17\n",
            "Primeira idade < 22 encontrada: 17\n",
            "Primeira idade < 22 encontrada: 19\n",
            "Primeira idade < 22 encontrada: 20\n",
            "Primeira idade < 22 encontrada: 19\n",
            "Primeira idade < 22 encontrada: 18\n",
            "Primeira idade < 22 encontrada: 18\n",
            "Primeira idade < 22 encontrada: 17\n",
            "Primeira idade < 22 encontrada: 17\n",
            "Primeira idade < 22 encontrada: 18\n",
            "Primeira idade < 22 encontrada: 18\n",
            "Primeira idade < 22 encontrada: 17\n",
            "Primeira idade < 22 encontrada: 18\n",
            "Primeira idade < 22 encontrada: 19\n",
            "Primeira idade < 22 encontrada: 18\n",
            "Primeira idade < 22 encontrada: 18\n",
            "Primeira idade < 22 encontrada: 17\n",
            "Primeira idade < 22 encontrada: 17\n",
            "Primeira idade < 22 encontrada: 17\n",
            "Primeira idade < 22 encontrada: 17\n",
            "Primeira idade < 22 encontrada: 18\n",
            "Primeira idade < 22 encontrada: 19\n",
            "Primeira idade < 22 encontrada: 19\n",
            "Primeira idade < 22 encontrada: 18\n",
            "Primeira idade < 22 encontrada: 17\n",
            "Primeira idade < 22 encontrada: 17\n",
            "Primeira idade < 22 encontrada: 17\n",
            "Primeira idade < 22 encontrada: 17\n",
            "Primeira idade < 22 encontrada: 18\n",
            "Primeira idade < 22 encontrada: 18\n",
            "Primeira idade < 22 encontrada: 17\n",
            "Primeira idade < 22 encontrada: 17\n",
            "Primeira idade < 22 encontrada: 17\n",
            "Primeira idade < 22 encontrada: 17\n",
            "Primeira idade < 22 encontrada: 17\n",
            "Primeira idade < 22 encontrada: 18\n",
            "Primeira idade < 22 encontrada: 19\n",
            "Primeira idade < 22 encontrada: 18\n",
            "Primeira idade < 22 encontrada: 17\n",
            "Primeira idade < 22 encontrada: 18\n",
            "Primeira idade < 22 encontrada: 18\n",
            "Primeira idade < 22 encontrada: 18\n",
            "Primeira idade < 22 encontrada: 18\n",
            "Primeira idade < 22 encontrada: 17\n",
            "Primeira idade < 22 encontrada: 17\n",
            "Primeira idade < 22 encontrada: 18\n",
            "Primeira idade < 22 encontrada: 17\n",
            "Primeira idade < 22 encontrada: 18\n",
            "Primeira idade < 22 encontrada: 18\n",
            "Primeira idade < 22 encontrada: 17\n",
            "Primeira idade < 22 encontrada: 18\n",
            "Primeira idade < 22 encontrada: 18\n",
            "Primeira idade < 22 encontrada: 18\n",
            "Primeira idade < 22 encontrada: 18\n",
            "Primeira idade < 22 encontrada: 17\n",
            "Primeira idade < 22 encontrada: 17\n",
            "Primeira idade < 22 encontrada: 17\n",
            "Primeira idade < 22 encontrada: 19\n",
            "Primeira idade < 22 encontrada: 17\n",
            "Primeira idade < 22 encontrada: 21\n",
            "Primeira idade < 22 encontrada: 18\n",
            "Primeira idade < 22 encontrada: 18\n",
            "Primeira idade < 22 encontrada: 17\n",
            "Primeira idade < 22 encontrada: 17\n",
            "Primeira idade < 22 encontrada: 18\n",
            "Primeira idade < 22 encontrada: 21\n",
            "Primeira idade < 22 encontrada: 20\n",
            "Primeira idade < 22 encontrada: 19\n",
            "Primeira idade < 22 encontrada: 17\n",
            "Primeira idade < 22 encontrada: 18\n",
            "Primeira idade < 22 encontrada: 18\n",
            "Primeira idade < 22 encontrada: 19\n",
            "Primeira idade < 22 encontrada: 18\n",
            "Primeira idade < 22 encontrada: 20\n",
            "Primeira idade < 22 encontrada: 18\n",
            "Primeira idade < 22 encontrada: 16\n",
            "Primeira idade < 22 encontrada: 16\n",
            "Primeira idade < 22 encontrada: 15\n",
            "Primeira idade < 22 encontrada: 15\n",
            "Primeira idade < 22 encontrada: 16\n",
            "Primeira idade < 22 encontrada: 15\n",
            "Primeira idade < 22 encontrada: 16\n",
            "Primeira idade < 22 encontrada: 16\n",
            "Primeira idade < 22 encontrada: 17\n",
            "Primeira idade < 22 encontrada: 17\n",
            "Primeira idade < 22 encontrada: 15\n",
            "Primeira idade < 22 encontrada: 16\n",
            "Primeira idade < 22 encontrada: 15\n",
            "Primeira idade < 22 encontrada: 15\n",
            "Primeira idade < 22 encontrada: 16\n",
            "Primeira idade < 22 encontrada: 17\n",
            "Primeira idade < 22 encontrada: 15\n",
            "Primeira idade < 22 encontrada: 16\n",
            "Primeira idade < 22 encontrada: 17\n",
            "Primeira idade < 22 encontrada: 15\n",
            "Primeira idade < 22 encontrada: 15\n",
            "Primeira idade < 22 encontrada: 16\n",
            "Primeira idade < 22 encontrada: 15\n",
            "Primeira idade < 22 encontrada: 15\n",
            "Primeira idade < 22 encontrada: 17\n",
            "Primeira idade < 22 encontrada: 16\n",
            "Primeira idade < 22 encontrada: 15\n",
            "Primeira idade < 22 encontrada: 16\n",
            "Primeira idade < 22 encontrada: 16\n",
            "Primeira idade < 22 encontrada: 16\n",
            "Primeira idade < 22 encontrada: 16\n",
            "Primeira idade < 22 encontrada: 16\n",
            "Primeira idade < 22 encontrada: 15\n",
            "Primeira idade < 22 encontrada: 16\n",
            "Primeira idade < 22 encontrada: 17\n",
            "Primeira idade < 22 encontrada: 16\n",
            "Primeira idade < 22 encontrada: 16\n",
            "Primeira idade < 22 encontrada: 15\n",
            "Primeira idade < 22 encontrada: 16\n",
            "Primeira idade < 22 encontrada: 15\n",
            "Primeira idade < 22 encontrada: 15\n",
            "Primeira idade < 22 encontrada: 16\n",
            "Primeira idade < 22 encontrada: 18\n",
            "Primeira idade < 22 encontrada: 15\n",
            "Primeira idade < 22 encontrada: 16\n",
            "Primeira idade < 22 encontrada: 15\n",
            "Primeira idade < 22 encontrada: 16\n",
            "Primeira idade < 22 encontrada: 15\n",
            "Primeira idade < 22 encontrada: 16\n",
            "Primeira idade < 22 encontrada: 16\n",
            "Primeira idade < 22 encontrada: 16\n",
            "Primeira idade < 22 encontrada: 15\n",
            "Primeira idade < 22 encontrada: 15\n",
            "Primeira idade < 22 encontrada: 16\n",
            "Primeira idade < 22 encontrada: 15\n",
            "Primeira idade < 22 encontrada: 16\n",
            "Primeira idade < 22 encontrada: 17\n",
            "Primeira idade < 22 encontrada: 19\n",
            "Primeira idade < 22 encontrada: 17\n",
            "Primeira idade < 22 encontrada: 15\n",
            "Primeira idade < 22 encontrada: 16\n",
            "Primeira idade < 22 encontrada: 16\n",
            "Primeira idade < 22 encontrada: 17\n",
            "Primeira idade < 22 encontrada: 16\n",
            "Primeira idade < 22 encontrada: 18\n",
            "Primeira idade < 22 encontrada: 19\n",
            "Primeira idade < 22 encontrada: 18\n",
            "Primeira idade < 22 encontrada: 18\n",
            "Primeira idade < 22 encontrada: 19\n",
            "Primeira idade < 22 encontrada: 16\n",
            "Primeira idade < 22 encontrada: 17\n",
            "Primeira idade < 22 encontrada: 16\n",
            "Primeira idade < 22 encontrada: 16\n",
            "Primeira idade < 22 encontrada: 16\n",
            "Primeira idade < 22 encontrada: 17\n",
            "Primeira idade < 22 encontrada: 16\n",
            "Primeira idade < 22 encontrada: 16\n",
            "Primeira idade < 22 encontrada: 17\n",
            "Primeira idade < 22 encontrada: 16\n",
            "Primeira idade < 22 encontrada: 17\n",
            "Primeira idade < 22 encontrada: 16\n",
            "Primeira idade < 22 encontrada: 19\n",
            "Primeira idade < 22 encontrada: 17\n",
            "Primeira idade < 22 encontrada: 20\n",
            "Primeira idade < 22 encontrada: 17\n",
            "Primeira idade < 22 encontrada: 17\n",
            "Primeira idade < 22 encontrada: 16\n",
            "Primeira idade < 22 encontrada: 17\n",
            "Primeira idade < 22 encontrada: 17\n",
            "Primeira idade < 22 encontrada: 18\n",
            "Primeira idade < 22 encontrada: 16\n",
            "Primeira idade < 22 encontrada: 16\n",
            "Primeira idade < 22 encontrada: 18\n",
            "Primeira idade < 22 encontrada: 16\n",
            "Primeira idade < 22 encontrada: 16\n",
            "Primeira idade < 22 encontrada: 18\n",
            "Primeira idade < 22 encontrada: 16\n",
            "Primeira idade < 22 encontrada: 16\n",
            "Primeira idade < 22 encontrada: 16\n",
            "Primeira idade < 22 encontrada: 16\n",
            "Primeira idade < 22 encontrada: 18\n",
            "Primeira idade < 22 encontrada: 16\n",
            "Primeira idade < 22 encontrada: 17\n",
            "Primeira idade < 22 encontrada: 17\n",
            "Primeira idade < 22 encontrada: 16\n",
            "Primeira idade < 22 encontrada: 17\n",
            "Primeira idade < 22 encontrada: 16\n",
            "Primeira idade < 22 encontrada: 17\n",
            "Primeira idade < 22 encontrada: 17\n",
            "Primeira idade < 22 encontrada: 16\n",
            "Primeira idade < 22 encontrada: 16\n",
            "Primeira idade < 22 encontrada: 16\n",
            "Primeira idade < 22 encontrada: 15\n",
            "Primeira idade < 22 encontrada: 15\n",
            "Primeira idade < 22 encontrada: 15\n",
            "Primeira idade < 22 encontrada: 16\n",
            "Primeira idade < 22 encontrada: 16\n",
            "Primeira idade < 22 encontrada: 17\n",
            "Primeira idade < 22 encontrada: 17\n",
            "Primeira idade < 22 encontrada: 16\n",
            "Primeira idade < 22 encontrada: 17\n",
            "Primeira idade < 22 encontrada: 17\n",
            "Primeira idade < 22 encontrada: 17\n",
            "Primeira idade < 22 encontrada: 17\n",
            "Primeira idade < 22 encontrada: 16\n",
            "Primeira idade < 22 encontrada: 17\n",
            "Primeira idade < 22 encontrada: 17\n",
            "Primeira idade < 22 encontrada: 16\n",
            "Primeira idade < 22 encontrada: 17\n",
            "Primeira idade < 22 encontrada: 19\n",
            "Primeira idade < 22 encontrada: 17\n",
            "Primeira idade < 22 encontrada: 17\n",
            "Primeira idade < 22 encontrada: 16\n",
            "Primeira idade < 22 encontrada: 16\n",
            "Primeira idade < 22 encontrada: 17\n",
            "Primeira idade < 22 encontrada: 17\n",
            "Primeira idade < 22 encontrada: 18\n",
            "Primeira idade < 22 encontrada: 17\n",
            "Primeira idade < 22 encontrada: 18\n",
            "Primeira idade < 22 encontrada: 16\n",
            "Primeira idade < 22 encontrada: 17\n",
            "Primeira idade < 22 encontrada: 16\n",
            "Primeira idade < 22 encontrada: 16\n",
            "Primeira idade < 22 encontrada: 18\n",
            "Primeira idade < 22 encontrada: 18\n",
            "Primeira idade < 22 encontrada: 19\n",
            "Primeira idade < 22 encontrada: 18\n",
            "Primeira idade < 22 encontrada: 16\n",
            "Primeira idade < 22 encontrada: 19\n",
            "Primeira idade < 22 encontrada: 16\n",
            "Primeira idade < 22 encontrada: 17\n",
            "Primeira idade < 22 encontrada: 20\n",
            "Primeira idade < 22 encontrada: 18\n",
            "Primeira idade < 22 encontrada: 18\n",
            "Primeira idade < 22 encontrada: 19\n",
            "Primeira idade < 22 encontrada: 17\n",
            "Primeira idade < 22 encontrada: 18\n",
            "Primeira idade < 22 encontrada: 19\n",
            "Primeira idade < 22 encontrada: 18\n",
            "Primeira idade < 22 encontrada: 19\n",
            "Primeira idade < 22 encontrada: 18\n",
            "Primeira idade < 22 encontrada: 17\n",
            "Primeira idade < 22 encontrada: 17\n",
            "Primeira idade < 22 encontrada: 17\n",
            "Primeira idade < 22 encontrada: 18\n",
            "Primeira idade < 22 encontrada: 17\n",
            "Primeira idade < 22 encontrada: 17\n",
            "Primeira idade < 22 encontrada: 18\n",
            "Primeira idade < 22 encontrada: 18\n",
            "Primeira idade < 22 encontrada: 17\n",
            "Primeira idade < 22 encontrada: 18\n",
            "Primeira idade < 22 encontrada: 18\n",
            "Primeira idade < 22 encontrada: 18\n",
            "Primeira idade < 22 encontrada: 17\n",
            "Primeira idade < 22 encontrada: 18\n",
            "Primeira idade < 22 encontrada: 18\n",
            "Primeira idade < 22 encontrada: 18\n",
            "Primeira idade < 22 encontrada: 17\n",
            "Primeira idade < 22 encontrada: 18\n",
            "Primeira idade < 22 encontrada: 18\n",
            "Primeira idade < 22 encontrada: 18\n",
            "Primeira idade < 22 encontrada: 18\n",
            "Primeira idade < 22 encontrada: 19\n",
            "Primeira idade < 22 encontrada: 17\n",
            "Primeira idade < 22 encontrada: 17\n",
            "Primeira idade < 22 encontrada: 18\n",
            "Primeira idade < 22 encontrada: 18\n",
            "Primeira idade < 22 encontrada: 19\n",
            "Primeira idade < 22 encontrada: 18\n",
            "Primeira idade < 22 encontrada: 17\n",
            "Primeira idade < 22 encontrada: 18\n",
            "Primeira idade < 22 encontrada: 17\n",
            "Primeira idade < 22 encontrada: 17\n",
            "Primeira idade < 22 encontrada: 18\n",
            "Primeira idade < 22 encontrada: 18\n",
            "Primeira idade < 22 encontrada: 18\n",
            "Primeira idade < 22 encontrada: 18\n",
            "Primeira idade < 22 encontrada: 17\n",
            "Primeira idade < 22 encontrada: 17\n",
            "Primeira idade < 22 encontrada: 18\n",
            "Primeira idade < 22 encontrada: 18\n",
            "Primeira idade < 22 encontrada: 17\n",
            "Primeira idade < 22 encontrada: 18\n",
            "Primeira idade < 22 encontrada: 18\n",
            "Primeira idade < 22 encontrada: 18\n",
            "Primeira idade < 22 encontrada: 17\n",
            "Primeira idade < 22 encontrada: 17\n",
            "Primeira idade < 22 encontrada: 18\n",
            "Primeira idade < 22 encontrada: 18\n",
            "Primeira idade < 22 encontrada: 19\n",
            "Primeira idade < 22 encontrada: 18\n",
            "Primeira idade < 22 encontrada: 18\n",
            "Primeira idade < 22 encontrada: 17\n",
            "Primeira idade < 22 encontrada: 18\n",
            "Primeira idade < 22 encontrada: 18\n",
            "Primeira idade < 22 encontrada: 17\n",
            "Primeira idade < 22 encontrada: 19\n",
            "Primeira idade < 22 encontrada: 18\n",
            "Primeira idade < 22 encontrada: 18\n",
            "Primeira idade < 22 encontrada: 17\n",
            "Primeira idade < 22 encontrada: 18\n",
            "Primeira idade < 22 encontrada: 19\n",
            "Primeira idade < 22 encontrada: 18\n",
            "Primeira idade < 22 encontrada: 18\n",
            "Primeira idade < 22 encontrada: 17\n",
            "Primeira idade < 22 encontrada: 18\n",
            "Nenhuma idade maior que 22 foi encontrada.\n"
          ]
        }
      ]
    },
    {
      "cell_type": "code",
      "source": [
        "limite = 22\n",
        "i = 0\n",
        "idades = df['age']\n",
        "\n",
        "while i < len(idades) and idades.iloc[i] <= limite:\n",
        "    i += 1\n",
        "\n",
        "if i < len(idades):\n",
        "    print(\"Primeira idade >\",\n",
        "          limite, \"encontrada:\", idades.iloc[i])\n",
        "else:\n",
        "    print(\"Nenhuma idade maior que\", limite, \"foi encontrada.\")"
      ],
      "metadata": {
        "colab": {
          "base_uri": "https://localhost:8080/"
        },
        "id": "0l8Jw_FkBAEG",
        "outputId": "44f0d54a-c353-43be-e41f-d4bd6ee0b75e"
      },
      "execution_count": null,
      "outputs": [
        {
          "output_type": "stream",
          "name": "stdout",
          "text": [
            "Nenhuma idade maior que 22 foi encontrada.\n"
          ]
        }
      ]
    },
    {
      "cell_type": "markdown",
      "source": [
        "**Comentários:**\n",
        "\n",
        "\n",
        "1. Ao implementar as estruturas condicionais, notamos que os valores não se alteravam, independentemente da linha processada.\n",
        "\n",
        "2. Os alunos levam em média de 15 a 30 minutos para chegar à escola."
      ],
      "metadata": {
        "id": "YHU_oHfkvqPw"
      }
    },
    {
      "cell_type": "markdown",
      "source": [
        "\n",
        "\n"
      ],
      "metadata": {
        "id": "g4PWzNlOvRwN"
      }
    },
    {
      "cell_type": "markdown",
      "source": [
        "\n",
        "\n",
        "### **4. Operadores Aritméticos e Manipulação de Dados**"
      ],
      "metadata": {
        "id": "JjRTaWCNvleh"
      }
    },
    {
      "cell_type": "code",
      "source": [
        "\n",
        "coluna_notas = df[['G1', 'G2', 'G3']]\n",
        "print(coluna_notas)"
      ],
      "metadata": {
        "colab": {
          "base_uri": "https://localhost:8080/"
        },
        "id": "2H496sfOvoyY",
        "outputId": "41ef8f6e-fb86-42d9-f62a-cd19b0e26142"
      },
      "execution_count": null,
      "outputs": [
        {
          "output_type": "stream",
          "name": "stdout",
          "text": [
            "     G1  G2  G3\n",
            "0     0  11  11\n",
            "1     9  11  11\n",
            "2    12  13  12\n",
            "3    14  14  14\n",
            "4    11  13  13\n",
            "..   ..  ..  ..\n",
            "644  10  11  10\n",
            "645  15  15  16\n",
            "646  11  12   9\n",
            "647  10  10  10\n",
            "648  10  11  11\n",
            "\n",
            "[649 rows x 3 columns]\n"
          ]
        }
      ]
    },
    {
      "cell_type": "code",
      "source": [
        "if 'G1' in df.columns and 'G2' in df.columns and 'G3' in df.columns:\n",
        "  df['soma_notas'] = df['G1'] + df['G2'] + df ['G3']\n",
        "  print(df[['G1', 'G2', 'G3', 'soma_notas']].head())\n"
      ],
      "metadata": {
        "colab": {
          "base_uri": "https://localhost:8080/"
        },
        "id": "3Sd_58tL7S6z",
        "outputId": "8b4a687a-3967-4186-b887-ef91bfbf72a9"
      },
      "execution_count": null,
      "outputs": [
        {
          "output_type": "stream",
          "name": "stdout",
          "text": [
            "   G1  G2  G3  soma_notas\n",
            "0   0  11  11          22\n",
            "1   9  11  11          31\n",
            "2  12  13  12          37\n",
            "3  14  14  14          42\n",
            "4  11  13  13          37\n"
          ]
        }
      ]
    },
    {
      "cell_type": "code",
      "source": [
        "# para vizualizar sem o comando \"head\".\n",
        "  df['soma'] = df['G1'] + df['G2']\n",
        "  print('A soma das notas do 1º e 2º período', df['soma'])"
      ],
      "metadata": {
        "colab": {
          "base_uri": "https://localhost:8080/"
        },
        "id": "5ug_eBE9zM9s",
        "outputId": "a342af6b-f27a-4349-a9d4-07751f492a75"
      },
      "execution_count": null,
      "outputs": [
        {
          "output_type": "stream",
          "name": "stdout",
          "text": [
            "A soma das notas do 1º e 2º período 0      11\n",
            "1      20\n",
            "2      25\n",
            "3      28\n",
            "4      24\n",
            "       ..\n",
            "644    21\n",
            "645    30\n",
            "646    23\n",
            "647    20\n",
            "648    21\n",
            "Name: soma, Length: 649, dtype: int64\n"
          ]
        }
      ]
    },
    {
      "cell_type": "markdown",
      "source": [
        "**Comentários:**\n",
        "\n",
        "1.  As notas de português e matemática, estão relacionadas as variavéis G1, G2 e G3, sendo a última a nota final.\n",
        "A partir dessa análise, notamos que o data set é qualitativo."
      ],
      "metadata": {
        "id": "Ks3Ebh-PzSX8"
      }
    },
    {
      "cell_type": "markdown",
      "source": [
        "\n",
        "\n",
        "\n",
        "### **5. NumPy e Arrays Numéricos**"
      ],
      "metadata": {
        "id": "zY4mDU8r-KgC"
      }
    },
    {
      "cell_type": "code",
      "source": [
        "array = np.array(df['G3'])\n",
        "array_triplo = array **3\n",
        "print(array_triplo[:10])\n",
        "print('A soma de todas as notas finais é?', array.sum())"
      ],
      "metadata": {
        "colab": {
          "base_uri": "https://localhost:8080/"
        },
        "id": "OI-gsdQ6-Npl",
        "outputId": "48b1b4c7-95ba-4bb0-add2-3320300fc6e9"
      },
      "execution_count": null,
      "outputs": [
        {
          "output_type": "stream",
          "name": "stdout",
          "text": [
            "[1331 1331 1728 2744 2197 2197 2197 2197 4913 2197]\n",
            "A soma de todas as notas finais é? 7727\n"
          ]
        }
      ]
    },
    {
      "cell_type": "code",
      "source": [
        "# INDEXAÇÃO\n",
        "indexacao = np.array(df['G3'])\n",
        "ultima_nota = indexacao [-1]\n",
        "print('O última nota', ultima_nota)\n"
      ],
      "metadata": {
        "colab": {
          "base_uri": "https://localhost:8080/"
        },
        "id": "3ktvI3lEGvgi",
        "outputId": "f4bfadfc-db95-4b95-c773-2c7c5fc7ddb6"
      },
      "execution_count": null,
      "outputs": [
        {
          "output_type": "stream",
          "name": "stdout",
          "text": [
            "O última nota 11\n"
          ]
        }
      ]
    },
    {
      "cell_type": "code",
      "source": [
        "# FATIAMENTO\n",
        "fatiamento = np.array(df['G3'])\n",
        "C_intervalo = fatiamento[0:3]\n",
        "print('O intervalo, pulando em 3 é?', C_intervalo)"
      ],
      "metadata": {
        "colab": {
          "base_uri": "https://localhost:8080/"
        },
        "id": "VsxV4HlbH0g7",
        "outputId": "ef6d5f2e-c822-4841-8413-61b9462682e4"
      },
      "execution_count": null,
      "outputs": [
        {
          "output_type": "stream",
          "name": "stdout",
          "text": [
            "O intervalo, pulando em 3 é? [11 11 12]\n"
          ]
        }
      ]
    },
    {
      "cell_type": "markdown",
      "source": [
        "**Comentários:**\n",
        "1. Escolhemos a coluna \"G3\", que representa a nota final tanto em português quanto em matemática. Essa variável é crucial para avaliar o desempenho acadêmico dos estudantes.\n",
        "\n",
        "2. Convertemos os dados para um array e somamos as 10 primeiras notas. Essa ação nos permitiu verificar o desenvolvimento inicial dos alunos dentro desse subconjunto de dados.\n",
        "\n",
        "3.  Além disso, identificamos a última nota da coluna \"G3\". Em seguida, realizamos um \"slicing\" (fatiamento) com intervalos regulares de 3. Essa técnica nos permitiu observar um padrão nas notas finais, como a sequência 11, 11, 12.\n",
        "\n"
      ],
      "metadata": {
        "id": "ax1UHenaDPJq"
      }
    },
    {
      "cell_type": "markdown",
      "source": [
        "\n",
        "\n",
        "### **6. Acesso e Manipulação de Dados com Pandas**"
      ],
      "metadata": {
        "id": "T-Rc7bvTJiao"
      }
    },
    {
      "cell_type": "code",
      "source": [
        "zona = df.loc[df['school'] == 'GP', ['age', 'address']]\n",
        "print(\"A idade e endereço dos alunos\", zona)"
      ],
      "metadata": {
        "colab": {
          "base_uri": "https://localhost:8080/"
        },
        "id": "twDdmyqLJn2I",
        "outputId": "df0e3e47-cc82-4ea1-e433-a23fca18dad1"
      },
      "execution_count": null,
      "outputs": [
        {
          "output_type": "stream",
          "name": "stdout",
          "text": [
            "A idade e endereço dos alunos      age address\n",
            "0     18       U\n",
            "1     17       U\n",
            "2     15       U\n",
            "3     15       U\n",
            "4     16       U\n",
            "..   ...     ...\n",
            "418   18       R\n",
            "419   19       U\n",
            "420   18       U\n",
            "421   20       U\n",
            "422   18       U\n",
            "\n",
            "[423 rows x 2 columns]\n"
          ]
        }
      ]
    },
    {
      "cell_type": "code",
      "source": [
        "\n",
        "trabalho_mãe = df.iloc[df['age']]\n",
        "print(df.iloc[[0, 10]])\n",
        "\n"
      ],
      "metadata": {
        "colab": {
          "base_uri": "https://localhost:8080/"
        },
        "id": "-qDXGzUjSmvR",
        "outputId": "15a2f3f2-5d69-4d12-c6ae-31f7542f3d38"
      },
      "execution_count": null,
      "outputs": [
        {
          "output_type": "stream",
          "name": "stdout",
          "text": [
            "   school sex  age address famsize Pstatus  Medu  Fedu     Mjob     Fjob  ...  \\\n",
            "0      GP   F   18       U     GT3       A     4     4  at_home  teacher  ...   \n",
            "10     GP   F   15       U     GT3       T     4     4  teacher   health  ...   \n",
            "\n",
            "   famrel freetime  goout  Dalc  Walc health absences  G1  G2  G3  \n",
            "0       4        3      4     1     1      3        4   0  11  11  \n",
            "10      3        3      3     1     2      2        2  14  14  14  \n",
            "\n",
            "[2 rows x 33 columns]\n"
          ]
        }
      ]
    },
    {
      "cell_type": "code",
      "source": [
        "aluno_zona = df['address'].value_counts()\n",
        "print('Moradias alunos', aluno_zona)"
      ],
      "metadata": {
        "colab": {
          "base_uri": "https://localhost:8080/"
        },
        "id": "ugtJ25PeU8kz",
        "outputId": "ee2d6938-0a01-4dba-a62b-f54022f182d0"
      },
      "execution_count": null,
      "outputs": [
        {
          "output_type": "stream",
          "name": "stdout",
          "text": [
            "Moradias alunos address\n",
            "U    452\n",
            "R    197\n",
            "Name: count, dtype: int64\n"
          ]
        }
      ]
    },
    {
      "cell_type": "markdown",
      "source": [
        "**Comentários:**\n",
        "\n",
        "1. Selecionamos as variáveis \"age\" (idade) e \"address\" (zona urbana ou rural). Para obter as idades dos alunos e seus respectivos locais de residência, utilizamos o método .loc.\n",
        "\n",
        "2. Com o auxílio da função value_counts(), conseguimos determinar o número total de alunos que residem tanto na zona rural quanto na zona urbana."
      ],
      "metadata": {
        "id": "rROAdHfzSNak"
      }
    },
    {
      "cell_type": "markdown",
      "source": [
        "\n",
        "\n",
        "### **7. Visualização de Dados**"
      ],
      "metadata": {
        "id": "a5vMYgFPXYow"
      }
    },
    {
      "cell_type": "code",
      "source": [
        "\n",
        "if 'age' in df.columns and 'G3' in df.columns:\n",
        "    df.groupby('age')['G3'].sum().plot(kind='line')\n",
        "    plt.title('NOTAS FINAIS')\n",
        "    plt.xlabel('age')\n",
        "    plt.ylabel('G3')\n",
        "    plt.show()"
      ],
      "metadata": {
        "colab": {
          "base_uri": "https://localhost:8080/",
          "height": 472
        },
        "id": "0UtxNr-3c1Gd",
        "outputId": "83f06f64-b48f-4fdb-b5c0-ccc0168df334"
      },
      "execution_count": null,
      "outputs": [
        {
          "output_type": "display_data",
          "data": {
            "text/plain": [
              "<Figure size 640x480 with 1 Axes>"
            ],
            "image/png": "[encoded data removed]"
          },
          "metadata": {}
        }
      ]
    },
    {
      "cell_type": "markdown",
      "source": [
        "**Comentários:**\n",
        "\n",
        "1. Os alunos entre 16 a 17 anos tem as melhores notas finais.\n",
        "2. Notamos com o gráfico de linhas que após os 17 anos, há uma queda na soma das notas G3. A partir dos 18 anos, as notas somadas caem drasticamente e continuam baixas ou diminuindo até os 22 anos.\n"
      ],
      "metadata": {
        "id": "itFb2aFOfX4q"
      }
    },
    {
      "cell_type": "code",
      "source": [
        "\n",
        "if 'sex' in df.columns and 'absences' in df.columns:\n",
        "    df.groupby('sex')['absences'].sum().plot(kind='bar')\n",
        "    plt.title('faltas escolares de acordo com o sexo')\n",
        "    plt.xlabel('sex')\n",
        "    plt.ylabel('absences')\n",
        "    plt.show()"
      ],
      "metadata": {
        "colab": {
          "base_uri": "https://localhost:8080/",
          "height": 470
        },
        "id": "6wEmg5XDfkl6",
        "outputId": "53552517-1306-44d0-ae15-58966c08b790"
      },
      "execution_count": null,
      "outputs": [
        {
          "output_type": "display_data",
          "data": {
            "text/plain": [
              "<Figure size 640x480 with 1 Axes>"
            ],
            "image/png": "[encoded data removed]"
          },
          "metadata": {}
        }
      ]
    },
    {
      "cell_type": "markdown",
      "source": [
        "**Comentários:**\n",
        "\n",
        "1. Este é um gráfico de barras que compara a soma total de faltas escolares entre estudantes do sexo feminino (\"F\") e masculino (\"M\").\n",
        "2. No conjunto de dados analisado, o total acumulado de faltas escolares é maior entre as estudantes do sexo feminino em comparação com os estudantes do sexo masculino."
      ],
      "metadata": {
        "id": "xk9gxIB6mMW3"
      }
    },
    {
      "cell_type": "code",
      "source": [
        "if 'G1' in df.columns and 'G3' in df.columns:\n",
        "    plt.scatter(df['G1'], df['G3'])\n",
        "    plt.title('2 primeiras notas')\n",
        "    plt.xlabel('G1')\n",
        "    plt.ylabel('G3')\n",
        "    plt.show()"
      ],
      "metadata": {
        "colab": {
          "base_uri": "https://localhost:8080/",
          "height": 472
        },
        "id": "IlltddRqnVVq",
        "outputId": "b6abe25e-26a9-41b7-ba80-7b24d25a3ebf"
      },
      "execution_count": null,
      "outputs": [
        {
          "output_type": "display_data",
          "data": {
            "text/plain": [
              "<Figure size 640x480 with 1 Axes>"
            ],
            "image/png": "[encoded data removed]"
          },
          "metadata": {}
        }
      ]
    },
    {
      "cell_type": "markdown",
      "source": [
        "**Comentários:**\n",
        "\n",
        "\n",
        "1.  Os alunos que compreendem bem os conceitos desde o início (evidenciado por uma boa G1) tendem a manter essa consistência ao longo do curso, resultando em uma boa G3.\n"
      ],
      "metadata": {
        "id": "p4057xt9ouRB"
      }
    }
  ]
}